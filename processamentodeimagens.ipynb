{
  "nbformat": 4,
  "nbformat_minor": 0,
  "metadata": {
    "colab": {
      "name": "processamentodeimagens",
      "provenance": [],
      "authorship_tag": "ABX9TyM2ZKejUqQjs0YjUCZrS11a",
      "include_colab_link": true
    },
    "kernelspec": {
      "name": "python3",
      "display_name": "Python 3"
    },
    "language_info": {
      "name": "python"
    }
  },
  "cells": [
    {
      "cell_type": "markdown",
      "metadata": {
        "id": "view-in-github",
        "colab_type": "text"
      },
      "source": [
        "<a href=\"https://colab.research.google.com/github/aninha1227/ProjetoFinalALA/blob/main/processamentodeimagens.ipynb\" target=\"_parent\"><img src=\"https://colab.research.google.com/assets/colab-badge.svg\" alt=\"Open In Colab\"/></a>"
      ]
    },
    {
      "cell_type": "code",
      "execution_count": 6,
      "metadata": {
        "id": "hT6XH_2Da3jK"
      },
      "outputs": [],
      "source": [
        "from PIL import Image, ImageEnhance\n",
        "\n",
        "image = Image.open('/content/imagem.jpg')\n",
        "\n",
        "saturation = ImageEnhance.Color(image)\n",
        "contrast = ImageEnhance.Contrast(image)\n",
        "brightness = ImageEnhance.Brightness(image)\n",
        "\n",
        "def filtro(img):\n",
        "    contrast = ImageEnhance.Contrast(img)\n",
        "    contrastado = contrast.enhance(1.3)\n",
        "\n",
        "    brightness = ImageEnhance.Brightness(contrastado)\n",
        "    brilho = brightness.enhance(1.0)\n",
        "\n",
        "    saturation = ImageEnhance.Color(brilho)\n",
        "    saturada = saturation.enhance(1.7)\n",
        "\n",
        "    saturada.save('imagem.jpg', quality=100)\n",
        "\n",
        "\n",
        "filtro(image)"
      ]
    }
  ]
}